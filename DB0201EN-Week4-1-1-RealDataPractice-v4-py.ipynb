{
 "cells": [
  {
   "cell_type": "markdown",
   "metadata": {},
   "source": [
    "<center>\n",
    "    <img src=\"https://s3-api.us-geo.objectstorage.softlayer.net/cf-courses-data/CognitiveClass/Logos/organization_logo/organization_logo.png\" width=\"300\" alt=\"cognitiveclass.ai logo\"  />\n",
    "</center>\n",
    "\n",
    "# Working with a real world data-set using SQL and Python\n",
    "\n",
    "Estimated time needed: **30** minutes\n",
    "\n",
    "## Objectives\n",
    "\n",
    "After completing this lab you will be able to:\n",
    "\n",
    "-   Understand the dataset for Chicago Public School level performance\n",
    "-   Store the dataset in an Db2 database on IBM Cloud instance\n",
    "-   Retrieve metadata about tables and columns and query data from mixed case columns\n",
    "-   Solve example problems to practice your SQL skills including using built-in database functions\n"
   ]
  },
  {
   "cell_type": "markdown",
   "metadata": {},
   "source": [
    "## Chicago Public Schools - Progress Report Cards (2011-2012)\n",
    "\n",
    "The city of Chicago released a dataset showing all school level performance data used to create School Report Cards for the 2011-2012 school year. The dataset is available from the Chicago Data Portal: [https://data.cityofchicago.org/Education/Chicago-Public-Schools-Progress-Report-Cards-2011-/9xs2-f89t](https://data.cityofchicago.org/Education/Chicago-Public-Schools-Progress-Report-Cards-2011-/9xs2-f89t?cm_mmc=Email_Newsletter-_-Developer_Ed%2BTech-_-WW_WW-_-SkillsNetwork-Courses-IBMDeveloperSkillsNetwork-DB0201EN-SkillsNetwork-20127838&cm_mmca1=000026UJ&cm_mmca2=10006555&cm_mmca3=M12345678&cvosrc=email.Newsletter.M12345678&cvo_campaign=000026UJ&cm_mmc=Email_Newsletter-_-Developer_Ed%2BTech-_-WW_WW-_-SkillsNetwork-Courses-IBMDeveloperSkillsNetwork-DB0201EN-SkillsNetwork-20127838&cm_mmca1=000026UJ&cm_mmca2=10006555&cm_mmca3=M12345678&cvosrc=email.Newsletter.M12345678&cvo_campaign=000026UJ)\n",
    "\n",
    "This dataset includes a large number of metrics. Start by familiarizing yourself with the types of metrics in the database: [https://data.cityofchicago.org/api/assets/AAD41A13-BE8A-4E67-B1F5-86E711E09D5F?download=true](https://data.cityofchicago.org/api/assets/AAD41A13-BE8A-4E67-B1F5-86E711E09D5F?download=true&cm_mmc=Email_Newsletter-_-Developer_Ed%2BTech-_-WW_WW-_-SkillsNetwork-Courses-IBMDeveloperSkillsNetwork-DB0201EN-SkillsNetwork-20127838&cm_mmca1=000026UJ&cm_mmca2=10006555&cm_mmca3=M12345678&cvosrc=email.Newsletter.M12345678&cvo_campaign=000026UJ)\n",
    "\n",
    "**NOTE**: \n",
    "\n",
    "Do not download the dataset directly from City of Chicago portal. Instead download a static copy which is a more database friendly version from this <a href=\"https://cf-courses-data.s3.us.cloud-object-storage.appdomain.cloud/IBMDeveloperSkillsNetwork-DB0201EN-SkillsNetwork/labs/FinalModule_edX/data/Chicago_Public_Schools_-_Progress_Report_Cards__2011-2012-v3.csv\">link</a>.\n",
    "\n",
    "Now review some of its contents.\n"
   ]
  },
  {
   "cell_type": "markdown",
   "metadata": {},
   "source": [
    "### Store the dataset in a Table\n",
    "\n",
    "In many cases the dataset to be analyzed is available as a .CSV (comma separated values) file, perhaps on the internet. To analyze the data using SQL, it first needs to be stored in the database.\n",
    "\n",
    "While it is easier to read the dataset into a Pandas dataframe and then PERSIST it into the database as we saw in the previous lab, it results in mapping to default datatypes which may not be optimal for SQL querying. For example a long textual field may map to a CLOB instead of a VARCHAR. \n",
    "\n",
    "Therefore, **it is highly recommended to manually load the table using the database console LOAD tool, as indicated in Week 2 Lab 1 Part II**. The only difference with that lab is that in Step 5 of the instructions you will need to click on create \"(+) New Table\" and specify the name of the table you want to create and then click \"Next\". \n",
    "\n",
    "##### Now open the Db2 console, open the LOAD tool, Select / Drag the .CSV file for the CHICAGO PUBLIC SCHOOLS dataset and load the dataset into a new table called **SCHOOLS**.\n",
    "\n",
    "<a href=\"https://cognitiveclass.ai\"><img src = \"https://ibm.box.com/shared/static/uc4xjh1uxcc78ks1i18v668simioz4es.jpg\"></a>\n"
   ]
  },
  {
   "cell_type": "markdown",
   "metadata": {},
   "source": [
    "### Connect to the database\n",
    "\n",
    "Let us now load the ipython-sql  extension and establish a connection with the database\n"
   ]
  },
  {
   "cell_type": "code",
   "execution_count": 6,
   "metadata": {},
   "outputs": [
    {
     "name": "stdout",
     "output_type": "stream",
     "text": [
      "The sql extension is already loaded. To reload it, use:\n",
      "  %reload_ext sql\n"
     ]
    }
   ],
   "source": [
    "%load_ext sql"
   ]
  },
  {
   "cell_type": "code",
   "execution_count": 7,
   "metadata": {},
   "outputs": [
    {
     "data": {
      "text/plain": [
       "'Connected: wll66257@BLUDB'"
      ]
     },
     "execution_count": 7,
     "metadata": {},
     "output_type": "execute_result"
    }
   ],
   "source": [
    "# Enter the connection string for your Db2 on Cloud database instance below\n",
    "# %sql ibm_db_sa://my-username:my-password@my-hostname:my-port/my-db-name\n",
    "%sql ibm_db_sa://wll66257:09w6lhvc93%40cgmsg@dashdb-txn-sbox-yp-dal09-10.services.dal.bluemix.net:50000/BLUDB"
   ]
  },
  {
   "cell_type": "code",
   "execution_count": 50,
   "metadata": {},
   "outputs": [
    {
     "data": {
      "text/plain": [
       "0      0.96\n",
       "1      0.96\n",
       "2      0.96\n",
       "3      0.96\n",
       "4      0.93\n",
       "       ... \n",
       "561    0.92\n",
       "562    0.91\n",
       "563    0.95\n",
       "564    0.94\n",
       "565    0.92\n",
       "Name: AVERAGE_STUDENT_ATTENDANCE, Length: 566, dtype: float64"
      ]
     },
     "execution_count": 50,
     "metadata": {},
     "output_type": "execute_result"
    }
   ],
   "source": [
    "import pandas\n",
    "schools = pandas.read_csv('https://cf-courses-data.s3.us.cloud-object-storage.appdomain.cloud/IBMDeveloperSkillsNetwork-DB0201EN-SkillsNetwork/labs/FinalModule_edX/data/Chicago_Public_Schools_-_Progress_Report_Cards__2011-2012-v3.csv')\n",
    "p_float = schools['AVERAGE_STUDENT_ATTENDANCE'].str.strip(\"%\").astype(float)/100\n",
    "schools['AVERAGE_STUDENT_ATTENDANCE']= p_float.round(decimals=2)\n",
    "schools['AVERAGE_STUDENT_ATTENDANCE']"
   ]
  },
  {
   "cell_type": "code",
   "execution_count": null,
   "metadata": {},
   "outputs": [],
   "source": [
    "p_float = schools['AVERAGE_STUDENT_ATTENDANCE'].str.strip(\"%\").astype(float)/100\n",
    "schools['AVERAGE_STUDENT_ATTENDANCE']= p_float.round(decimals=2)\n",
    "schools['AVERAGE_STUDENT_ATTENDANCE']"
   ]
  },
  {
   "cell_type": "code",
   "execution_count": 64,
   "metadata": {},
   "outputs": [
    {
     "name": "stdout",
     "output_type": "stream",
     "text": [
      " * ibm_db_sa://wll66257:***@dashdb-txn-sbox-yp-dal09-10.services.dal.bluemix.net:50000/BLUDB\n"
     ]
    },
    {
     "data": {
      "text/plain": [
       "'Persisted schools'"
      ]
     },
     "execution_count": 64,
     "metadata": {},
     "output_type": "execute_result"
    }
   ],
   "source": [
    "%sql PERSIST schools"
   ]
  },
  {
   "cell_type": "code",
   "execution_count": 63,
   "metadata": {},
   "outputs": [
    {
     "name": "stdout",
     "output_type": "stream",
     "text": [
      " * ibm_db_sa://wll66257:***@dashdb-txn-sbox-yp-dal09-10.services.dal.bluemix.net:50000/BLUDB\n",
      "Done.\n"
     ]
    },
    {
     "data": {
      "text/plain": [
       "[]"
      ]
     },
     "execution_count": 63,
     "metadata": {},
     "output_type": "execute_result"
    }
   ],
   "source": [
    "%sql drop table schools"
   ]
  },
  {
   "cell_type": "markdown",
   "metadata": {},
   "source": [
    "### Query the database system catalog to retrieve table metadata\n",
    "\n",
    "##### You can verify that the table creation was successful by retrieving the list of all tables in your schema and checking whether the SCHOOLS table was created\n"
   ]
  },
  {
   "cell_type": "code",
   "execution_count": 61,
   "metadata": {},
   "outputs": [
    {
     "name": "stdout",
     "output_type": "stream",
     "text": [
      " * ibm_db_sa://wll66257:***@dashdb-txn-sbox-yp-dal09-10.services.dal.bluemix.net:50000/BLUDB\n",
      "Done.\n"
     ]
    },
    {
     "data": {
      "text/html": [
       "<table>\n",
       "    <thead>\n",
       "        <tr>\n",
       "            <th>tabschema</th>\n",
       "            <th>tabname</th>\n",
       "            <th>create_time</th>\n",
       "        </tr>\n",
       "    </thead>\n",
       "    <tbody>\n",
       "        <tr>\n",
       "            <td>WLL66257</td>\n",
       "            <td>INSTRUCTOR</td>\n",
       "            <td>2021-03-03 15:28:39.702796</td>\n",
       "        </tr>\n",
       "        <tr>\n",
       "            <td>WLL66257</td>\n",
       "            <td>INTERNATIONAL_STUDENT_TEST_SCORES</td>\n",
       "            <td>2021-03-03 15:48:14.700008</td>\n",
       "        </tr>\n",
       "        <tr>\n",
       "            <td>WLL66257</td>\n",
       "            <td>CHICAGO_SOCIOECONOMIC_DATA</td>\n",
       "            <td>2021-03-03 16:09:23.635408</td>\n",
       "        </tr>\n",
       "        <tr>\n",
       "            <td>WLL66257</td>\n",
       "            <td>CHICAGO_PUBLICSCHOOLS_DATA</td>\n",
       "            <td>2021-03-03 19:42:19.477559</td>\n",
       "        </tr>\n",
       "        <tr>\n",
       "            <td>WLL66257</td>\n",
       "            <td>SCHOOLS_DATA</td>\n",
       "            <td>2021-03-03 20:04:34.707979</td>\n",
       "        </tr>\n",
       "        <tr>\n",
       "            <td>WLL66257</td>\n",
       "            <td>SCHOOLS</td>\n",
       "            <td>2021-03-03 20:05:12.097992</td>\n",
       "        </tr>\n",
       "    </tbody>\n",
       "</table>"
      ],
      "text/plain": [
       "[('WLL66257', 'INSTRUCTOR', datetime.datetime(2021, 3, 3, 15, 28, 39, 702796)),\n",
       " ('WLL66257', 'INTERNATIONAL_STUDENT_TEST_SCORES', datetime.datetime(2021, 3, 3, 15, 48, 14, 700008)),\n",
       " ('WLL66257', 'CHICAGO_SOCIOECONOMIC_DATA', datetime.datetime(2021, 3, 3, 16, 9, 23, 635408)),\n",
       " ('WLL66257', 'CHICAGO_PUBLICSCHOOLS_DATA', datetime.datetime(2021, 3, 3, 19, 42, 19, 477559)),\n",
       " ('WLL66257', 'SCHOOLS_DATA', datetime.datetime(2021, 3, 3, 20, 4, 34, 707979)),\n",
       " ('WLL66257', 'SCHOOLS', datetime.datetime(2021, 3, 3, 20, 5, 12, 97992))]"
      ]
     },
     "execution_count": 61,
     "metadata": {},
     "output_type": "execute_result"
    }
   ],
   "source": [
    "# type in your query to retrieve list of all tables in the database for your db2 schema (username)\n",
    "%sql select TABSCHEMA, TABNAME, CREATE_TIME from SYSCAT.TABLES where TABSCHEMA='WLL66257'"
   ]
  },
  {
   "cell_type": "markdown",
   "metadata": {},
   "source": [
    "<details><summary>Click here for the solution</summary>\n",
    "\n",
    "```python\n",
    "#In Db2 the system catalog table called SYSCAT.TABLES contains the table metadata\n",
    "\n",
    "%sql select TABSCHEMA, TABNAME, CREATE_TIME from SYSCAT.TABLES where TABSCHEMA='YOUR-DB2-USERNAME'\n",
    "\n",
    "or, you can retrieve list of all tables where the schema name is not one of the system created ones:\n",
    "\n",
    "%sql select TABSCHEMA, TABNAME, CREATE_TIME from SYSCAT.TABLES \\\n",
    "      where TABSCHEMA not in ('SYSIBM', 'SYSCAT', 'SYSSTAT', 'SYSIBMADM', 'SYSTOOLS', 'SYSPUBLIC')\n",
    "      \n",
    "or, just query for a specifc table that you want to verify exists in the database\n",
    "%sql select * from SYSCAT.TABLES where TABNAME = 'SCHOOLS'\n",
    "```\n",
    "\n",
    "</details>\n"
   ]
  },
  {
   "cell_type": "markdown",
   "metadata": {},
   "source": [
    "### Query the database system catalog to retrieve column metadata\n",
    "\n",
    "##### The SCHOOLS table contains a large number of columns. How many columns does this table have?\n"
   ]
  },
  {
   "cell_type": "code",
   "execution_count": 52,
   "metadata": {},
   "outputs": [
    {
     "name": "stdout",
     "output_type": "stream",
     "text": [
      " * ibm_db_sa://wll66257:***@dashdb-txn-sbox-yp-dal09-10.services.dal.bluemix.net:50000/BLUDB\n",
      "Done.\n"
     ]
    },
    {
     "data": {
      "text/html": [
       "<table>\n",
       "    <thead>\n",
       "        <tr>\n",
       "            <th>1</th>\n",
       "        </tr>\n",
       "    </thead>\n",
       "    <tbody>\n",
       "        <tr>\n",
       "            <td>79</td>\n",
       "        </tr>\n",
       "    </tbody>\n",
       "</table>"
      ],
      "text/plain": [
       "[(Decimal('79'),)]"
      ]
     },
     "execution_count": 52,
     "metadata": {},
     "output_type": "execute_result"
    }
   ],
   "source": [
    "# type in your query to retrieve the number of columns in the SCHOOLS table\n",
    "%sql select count(*) from SYSCAT.COLUMNS where TABNAME = 'SCHOOLS'"
   ]
  },
  {
   "cell_type": "markdown",
   "metadata": {},
   "source": [
    "<details><summary>Click here for the solution</summary>\n",
    "\n",
    "```python\n",
    "#In Db2 the system catalog table called SYSCAT.COLUMNS contains the column metadata\n",
    "\n",
    "%sql select count(*) from SYSCAT.COLUMNS where TABNAME = 'SCHOOLS'\n",
    "\n",
    "```\n",
    "\n",
    "</details>\n"
   ]
  },
  {
   "cell_type": "markdown",
   "metadata": {},
   "source": [
    "Now retrieve the the list of columns in SCHOOLS table and their column type (datatype) and length.\n"
   ]
  },
  {
   "cell_type": "code",
   "execution_count": 53,
   "metadata": {},
   "outputs": [
    {
     "name": "stdout",
     "output_type": "stream",
     "text": [
      " * ibm_db_sa://wll66257:***@dashdb-txn-sbox-yp-dal09-10.services.dal.bluemix.net:50000/BLUDB\n",
      "Done.\n"
     ]
    },
    {
     "data": {
      "text/html": [
       "<table>\n",
       "    <thead>\n",
       "        <tr>\n",
       "            <th>colname</th>\n",
       "            <th>typename</th>\n",
       "            <th>length</th>\n",
       "        </tr>\n",
       "    </thead>\n",
       "    <tbody>\n",
       "        <tr>\n",
       "            <td>index</td>\n",
       "            <td>BIGINT</td>\n",
       "            <td>8</td>\n",
       "        </tr>\n",
       "        <tr>\n",
       "            <td>School ID</td>\n",
       "            <td>BIGINT</td>\n",
       "            <td>8</td>\n",
       "        </tr>\n",
       "        <tr>\n",
       "            <td>NAME_OF_SCHOOL</td>\n",
       "            <td>CLOB</td>\n",
       "            <td>1048576</td>\n",
       "        </tr>\n",
       "        <tr>\n",
       "            <td>Elementary, Middle, or High School</td>\n",
       "            <td>CLOB</td>\n",
       "            <td>1048576</td>\n",
       "        </tr>\n",
       "        <tr>\n",
       "            <td>Street Address</td>\n",
       "            <td>CLOB</td>\n",
       "            <td>1048576</td>\n",
       "        </tr>\n",
       "        <tr>\n",
       "            <td>City</td>\n",
       "            <td>CLOB</td>\n",
       "            <td>1048576</td>\n",
       "        </tr>\n",
       "        <tr>\n",
       "            <td>State</td>\n",
       "            <td>CLOB</td>\n",
       "            <td>1048576</td>\n",
       "        </tr>\n",
       "        <tr>\n",
       "            <td>ZIP Code</td>\n",
       "            <td>BIGINT</td>\n",
       "            <td>8</td>\n",
       "        </tr>\n",
       "        <tr>\n",
       "            <td>Phone Number</td>\n",
       "            <td>CLOB</td>\n",
       "            <td>1048576</td>\n",
       "        </tr>\n",
       "        <tr>\n",
       "            <td>Link </td>\n",
       "            <td>CLOB</td>\n",
       "            <td>1048576</td>\n",
       "        </tr>\n",
       "        <tr>\n",
       "            <td>Network Manager</td>\n",
       "            <td>CLOB</td>\n",
       "            <td>1048576</td>\n",
       "        </tr>\n",
       "        <tr>\n",
       "            <td>Collaborative Name</td>\n",
       "            <td>CLOB</td>\n",
       "            <td>1048576</td>\n",
       "        </tr>\n",
       "        <tr>\n",
       "            <td>Adequate Yearly Progress Made? </td>\n",
       "            <td>CLOB</td>\n",
       "            <td>1048576</td>\n",
       "        </tr>\n",
       "        <tr>\n",
       "            <td>Track Schedule</td>\n",
       "            <td>CLOB</td>\n",
       "            <td>1048576</td>\n",
       "        </tr>\n",
       "        <tr>\n",
       "            <td>CPS Performance Policy Status</td>\n",
       "            <td>CLOB</td>\n",
       "            <td>1048576</td>\n",
       "        </tr>\n",
       "        <tr>\n",
       "            <td>CPS Performance Policy Level</td>\n",
       "            <td>CLOB</td>\n",
       "            <td>1048576</td>\n",
       "        </tr>\n",
       "        <tr>\n",
       "            <td>HEALTHY_SCHOOL_CERTIFIED</td>\n",
       "            <td>CLOB</td>\n",
       "            <td>1048576</td>\n",
       "        </tr>\n",
       "        <tr>\n",
       "            <td>Safety Icon </td>\n",
       "            <td>CLOB</td>\n",
       "            <td>1048576</td>\n",
       "        </tr>\n",
       "        <tr>\n",
       "            <td>SAFETY_SCORE</td>\n",
       "            <td>DOUBLE</td>\n",
       "            <td>8</td>\n",
       "        </tr>\n",
       "        <tr>\n",
       "            <td>Family Involvement Icon</td>\n",
       "            <td>CLOB</td>\n",
       "            <td>1048576</td>\n",
       "        </tr>\n",
       "        <tr>\n",
       "            <td>Family Involvement Score</td>\n",
       "            <td>CLOB</td>\n",
       "            <td>1048576</td>\n",
       "        </tr>\n",
       "        <tr>\n",
       "            <td>Environment Icon </td>\n",
       "            <td>CLOB</td>\n",
       "            <td>1048576</td>\n",
       "        </tr>\n",
       "        <tr>\n",
       "            <td>Environment Score</td>\n",
       "            <td>DOUBLE</td>\n",
       "            <td>8</td>\n",
       "        </tr>\n",
       "        <tr>\n",
       "            <td>Instruction Icon </td>\n",
       "            <td>CLOB</td>\n",
       "            <td>1048576</td>\n",
       "        </tr>\n",
       "        <tr>\n",
       "            <td>Instruction Score</td>\n",
       "            <td>DOUBLE</td>\n",
       "            <td>8</td>\n",
       "        </tr>\n",
       "        <tr>\n",
       "            <td>Leaders Icon </td>\n",
       "            <td>CLOB</td>\n",
       "            <td>1048576</td>\n",
       "        </tr>\n",
       "        <tr>\n",
       "            <td>Leaders Score </td>\n",
       "            <td>CLOB</td>\n",
       "            <td>1048576</td>\n",
       "        </tr>\n",
       "        <tr>\n",
       "            <td>Teachers Icon </td>\n",
       "            <td>CLOB</td>\n",
       "            <td>1048576</td>\n",
       "        </tr>\n",
       "        <tr>\n",
       "            <td>Teachers Score</td>\n",
       "            <td>CLOB</td>\n",
       "            <td>1048576</td>\n",
       "        </tr>\n",
       "        <tr>\n",
       "            <td>Parent Engagement Icon </td>\n",
       "            <td>CLOB</td>\n",
       "            <td>1048576</td>\n",
       "        </tr>\n",
       "        <tr>\n",
       "            <td>Parent Engagement Score</td>\n",
       "            <td>CLOB</td>\n",
       "            <td>1048576</td>\n",
       "        </tr>\n",
       "        <tr>\n",
       "            <td>Parent Environment Icon</td>\n",
       "            <td>CLOB</td>\n",
       "            <td>1048576</td>\n",
       "        </tr>\n",
       "        <tr>\n",
       "            <td>Parent Environment Score</td>\n",
       "            <td>CLOB</td>\n",
       "            <td>1048576</td>\n",
       "        </tr>\n",
       "        <tr>\n",
       "            <td>AVERAGE_STUDENT_ATTENDANCE</td>\n",
       "            <td>CLOB</td>\n",
       "            <td>1048576</td>\n",
       "        </tr>\n",
       "        <tr>\n",
       "            <td>Rate of Misconducts (per 100 students) </td>\n",
       "            <td>DOUBLE</td>\n",
       "            <td>8</td>\n",
       "        </tr>\n",
       "        <tr>\n",
       "            <td>Average Teacher Attendance</td>\n",
       "            <td>CLOB</td>\n",
       "            <td>1048576</td>\n",
       "        </tr>\n",
       "        <tr>\n",
       "            <td>Individualized Education Program Compliance Rate </td>\n",
       "            <td>CLOB</td>\n",
       "            <td>1048576</td>\n",
       "        </tr>\n",
       "        <tr>\n",
       "            <td>Pk-2 Literacy %</td>\n",
       "            <td>CLOB</td>\n",
       "            <td>1048576</td>\n",
       "        </tr>\n",
       "        <tr>\n",
       "            <td>Pk-2 Math %</td>\n",
       "            <td>CLOB</td>\n",
       "            <td>1048576</td>\n",
       "        </tr>\n",
       "        <tr>\n",
       "            <td>Gr3-5 Grade Level Math %</td>\n",
       "            <td>CLOB</td>\n",
       "            <td>1048576</td>\n",
       "        </tr>\n",
       "        <tr>\n",
       "            <td>Gr3-5 Grade Level Read % </td>\n",
       "            <td>CLOB</td>\n",
       "            <td>1048576</td>\n",
       "        </tr>\n",
       "        <tr>\n",
       "            <td>Gr3-5 Keep Pace Read %</td>\n",
       "            <td>CLOB</td>\n",
       "            <td>1048576</td>\n",
       "        </tr>\n",
       "        <tr>\n",
       "            <td>Gr3-5 Keep Pace Math %</td>\n",
       "            <td>CLOB</td>\n",
       "            <td>1048576</td>\n",
       "        </tr>\n",
       "        <tr>\n",
       "            <td>Gr6-8 Grade Level Math %</td>\n",
       "            <td>CLOB</td>\n",
       "            <td>1048576</td>\n",
       "        </tr>\n",
       "        <tr>\n",
       "            <td>Gr6-8 Grade Level Read %</td>\n",
       "            <td>CLOB</td>\n",
       "            <td>1048576</td>\n",
       "        </tr>\n",
       "        <tr>\n",
       "            <td>Gr6-8 Keep Pace Math%</td>\n",
       "            <td>CLOB</td>\n",
       "            <td>1048576</td>\n",
       "        </tr>\n",
       "        <tr>\n",
       "            <td>Gr6-8 Keep Pace Read %</td>\n",
       "            <td>CLOB</td>\n",
       "            <td>1048576</td>\n",
       "        </tr>\n",
       "        <tr>\n",
       "            <td>Gr-8 Explore Math %</td>\n",
       "            <td>CLOB</td>\n",
       "            <td>1048576</td>\n",
       "        </tr>\n",
       "        <tr>\n",
       "            <td>Gr-8 Explore Read %</td>\n",
       "            <td>CLOB</td>\n",
       "            <td>1048576</td>\n",
       "        </tr>\n",
       "        <tr>\n",
       "            <td>ISAT Exceeding Math %</td>\n",
       "            <td>DOUBLE</td>\n",
       "            <td>8</td>\n",
       "        </tr>\n",
       "        <tr>\n",
       "            <td>ISAT Exceeding Reading % </td>\n",
       "            <td>DOUBLE</td>\n",
       "            <td>8</td>\n",
       "        </tr>\n",
       "        <tr>\n",
       "            <td>ISAT Value Add Math</td>\n",
       "            <td>DOUBLE</td>\n",
       "            <td>8</td>\n",
       "        </tr>\n",
       "        <tr>\n",
       "            <td>ISAT Value Add Read</td>\n",
       "            <td>DOUBLE</td>\n",
       "            <td>8</td>\n",
       "        </tr>\n",
       "        <tr>\n",
       "            <td>ISAT Value Add Color Math</td>\n",
       "            <td>CLOB</td>\n",
       "            <td>1048576</td>\n",
       "        </tr>\n",
       "        <tr>\n",
       "            <td>ISAT Value Add Color Read</td>\n",
       "            <td>CLOB</td>\n",
       "            <td>1048576</td>\n",
       "        </tr>\n",
       "        <tr>\n",
       "            <td>Students Taking  Algebra %</td>\n",
       "            <td>CLOB</td>\n",
       "            <td>1048576</td>\n",
       "        </tr>\n",
       "        <tr>\n",
       "            <td>Students Passing  Algebra %</td>\n",
       "            <td>CLOB</td>\n",
       "            <td>1048576</td>\n",
       "        </tr>\n",
       "        <tr>\n",
       "            <td>9th Grade EXPLORE (2009) </td>\n",
       "            <td>CLOB</td>\n",
       "            <td>1048576</td>\n",
       "        </tr>\n",
       "        <tr>\n",
       "            <td>9th Grade EXPLORE (2010) </td>\n",
       "            <td>CLOB</td>\n",
       "            <td>1048576</td>\n",
       "        </tr>\n",
       "        <tr>\n",
       "            <td>10th Grade PLAN (2009) </td>\n",
       "            <td>CLOB</td>\n",
       "            <td>1048576</td>\n",
       "        </tr>\n",
       "        <tr>\n",
       "            <td>10th Grade PLAN (2010) </td>\n",
       "            <td>CLOB</td>\n",
       "            <td>1048576</td>\n",
       "        </tr>\n",
       "        <tr>\n",
       "            <td>Net Change EXPLORE and PLAN</td>\n",
       "            <td>CLOB</td>\n",
       "            <td>1048576</td>\n",
       "        </tr>\n",
       "        <tr>\n",
       "            <td>11th Grade Average ACT (2011) </td>\n",
       "            <td>CLOB</td>\n",
       "            <td>1048576</td>\n",
       "        </tr>\n",
       "        <tr>\n",
       "            <td>Net Change PLAN and ACT</td>\n",
       "            <td>CLOB</td>\n",
       "            <td>1048576</td>\n",
       "        </tr>\n",
       "        <tr>\n",
       "            <td>College Eligibility %</td>\n",
       "            <td>CLOB</td>\n",
       "            <td>1048576</td>\n",
       "        </tr>\n",
       "        <tr>\n",
       "            <td>Graduation Rate %</td>\n",
       "            <td>CLOB</td>\n",
       "            <td>1048576</td>\n",
       "        </tr>\n",
       "        <tr>\n",
       "            <td>College Enrollment Rate %</td>\n",
       "            <td>CLOB</td>\n",
       "            <td>1048576</td>\n",
       "        </tr>\n",
       "        <tr>\n",
       "            <td>COLLEGE_ENROLLMENT</td>\n",
       "            <td>BIGINT</td>\n",
       "            <td>8</td>\n",
       "        </tr>\n",
       "        <tr>\n",
       "            <td>General Services Route </td>\n",
       "            <td>BIGINT</td>\n",
       "            <td>8</td>\n",
       "        </tr>\n",
       "        <tr>\n",
       "            <td>Freshman on Track Rate %</td>\n",
       "            <td>CLOB</td>\n",
       "            <td>1048576</td>\n",
       "        </tr>\n",
       "        <tr>\n",
       "            <td>X_COORDINATE</td>\n",
       "            <td>DOUBLE</td>\n",
       "            <td>8</td>\n",
       "        </tr>\n",
       "        <tr>\n",
       "            <td>Y_COORDINATE</td>\n",
       "            <td>DOUBLE</td>\n",
       "            <td>8</td>\n",
       "        </tr>\n",
       "        <tr>\n",
       "            <td>Latitude</td>\n",
       "            <td>DOUBLE</td>\n",
       "            <td>8</td>\n",
       "        </tr>\n",
       "        <tr>\n",
       "            <td>Longitude</td>\n",
       "            <td>DOUBLE</td>\n",
       "            <td>8</td>\n",
       "        </tr>\n",
       "        <tr>\n",
       "            <td>COMMUNITY_AREA_NUMBER</td>\n",
       "            <td>BIGINT</td>\n",
       "            <td>8</td>\n",
       "        </tr>\n",
       "        <tr>\n",
       "            <td>COMMUNITY_AREA_NAME</td>\n",
       "            <td>CLOB</td>\n",
       "            <td>1048576</td>\n",
       "        </tr>\n",
       "        <tr>\n",
       "            <td>Ward</td>\n",
       "            <td>BIGINT</td>\n",
       "            <td>8</td>\n",
       "        </tr>\n",
       "        <tr>\n",
       "            <td>Police District</td>\n",
       "            <td>BIGINT</td>\n",
       "            <td>8</td>\n",
       "        </tr>\n",
       "        <tr>\n",
       "            <td>Location</td>\n",
       "            <td>CLOB</td>\n",
       "            <td>1048576</td>\n",
       "        </tr>\n",
       "    </tbody>\n",
       "</table>"
      ],
      "text/plain": [
       "[('index', 'BIGINT', 8),\n",
       " ('School ID', 'BIGINT', 8),\n",
       " ('NAME_OF_SCHOOL', 'CLOB', 1048576),\n",
       " ('Elementary, Middle, or High School', 'CLOB', 1048576),\n",
       " ('Street Address', 'CLOB', 1048576),\n",
       " ('City', 'CLOB', 1048576),\n",
       " ('State', 'CLOB', 1048576),\n",
       " ('ZIP Code', 'BIGINT', 8),\n",
       " ('Phone Number', 'CLOB', 1048576),\n",
       " ('Link ', 'CLOB', 1048576),\n",
       " ('Network Manager', 'CLOB', 1048576),\n",
       " ('Collaborative Name', 'CLOB', 1048576),\n",
       " ('Adequate Yearly Progress Made? ', 'CLOB', 1048576),\n",
       " ('Track Schedule', 'CLOB', 1048576),\n",
       " ('CPS Performance Policy Status', 'CLOB', 1048576),\n",
       " ('CPS Performance Policy Level', 'CLOB', 1048576),\n",
       " ('HEALTHY_SCHOOL_CERTIFIED', 'CLOB', 1048576),\n",
       " ('Safety Icon ', 'CLOB', 1048576),\n",
       " ('SAFETY_SCORE', 'DOUBLE', 8),\n",
       " ('Family Involvement Icon', 'CLOB', 1048576),\n",
       " ('Family Involvement Score', 'CLOB', 1048576),\n",
       " ('Environment Icon ', 'CLOB', 1048576),\n",
       " ('Environment Score', 'DOUBLE', 8),\n",
       " ('Instruction Icon ', 'CLOB', 1048576),\n",
       " ('Instruction Score', 'DOUBLE', 8),\n",
       " ('Leaders Icon ', 'CLOB', 1048576),\n",
       " ('Leaders Score ', 'CLOB', 1048576),\n",
       " ('Teachers Icon ', 'CLOB', 1048576),\n",
       " ('Teachers Score', 'CLOB', 1048576),\n",
       " ('Parent Engagement Icon ', 'CLOB', 1048576),\n",
       " ('Parent Engagement Score', 'CLOB', 1048576),\n",
       " ('Parent Environment Icon', 'CLOB', 1048576),\n",
       " ('Parent Environment Score', 'CLOB', 1048576),\n",
       " ('AVERAGE_STUDENT_ATTENDANCE', 'CLOB', 1048576),\n",
       " ('Rate of Misconducts (per 100 students) ', 'DOUBLE', 8),\n",
       " ('Average Teacher Attendance', 'CLOB', 1048576),\n",
       " ('Individualized Education Program Compliance Rate ', 'CLOB', 1048576),\n",
       " ('Pk-2 Literacy %', 'CLOB', 1048576),\n",
       " ('Pk-2 Math %', 'CLOB', 1048576),\n",
       " ('Gr3-5 Grade Level Math %', 'CLOB', 1048576),\n",
       " ('Gr3-5 Grade Level Read % ', 'CLOB', 1048576),\n",
       " ('Gr3-5 Keep Pace Read %', 'CLOB', 1048576),\n",
       " ('Gr3-5 Keep Pace Math %', 'CLOB', 1048576),\n",
       " ('Gr6-8 Grade Level Math %', 'CLOB', 1048576),\n",
       " ('Gr6-8 Grade Level Read %', 'CLOB', 1048576),\n",
       " ('Gr6-8 Keep Pace Math%', 'CLOB', 1048576),\n",
       " ('Gr6-8 Keep Pace Read %', 'CLOB', 1048576),\n",
       " ('Gr-8 Explore Math %', 'CLOB', 1048576),\n",
       " ('Gr-8 Explore Read %', 'CLOB', 1048576),\n",
       " ('ISAT Exceeding Math %', 'DOUBLE', 8),\n",
       " ('ISAT Exceeding Reading % ', 'DOUBLE', 8),\n",
       " ('ISAT Value Add Math', 'DOUBLE', 8),\n",
       " ('ISAT Value Add Read', 'DOUBLE', 8),\n",
       " ('ISAT Value Add Color Math', 'CLOB', 1048576),\n",
       " ('ISAT Value Add Color Read', 'CLOB', 1048576),\n",
       " ('Students Taking  Algebra %', 'CLOB', 1048576),\n",
       " ('Students Passing  Algebra %', 'CLOB', 1048576),\n",
       " ('9th Grade EXPLORE (2009) ', 'CLOB', 1048576),\n",
       " ('9th Grade EXPLORE (2010) ', 'CLOB', 1048576),\n",
       " ('10th Grade PLAN (2009) ', 'CLOB', 1048576),\n",
       " ('10th Grade PLAN (2010) ', 'CLOB', 1048576),\n",
       " ('Net Change EXPLORE and PLAN', 'CLOB', 1048576),\n",
       " ('11th Grade Average ACT (2011) ', 'CLOB', 1048576),\n",
       " ('Net Change PLAN and ACT', 'CLOB', 1048576),\n",
       " ('College Eligibility %', 'CLOB', 1048576),\n",
       " ('Graduation Rate %', 'CLOB', 1048576),\n",
       " ('College Enrollment Rate %', 'CLOB', 1048576),\n",
       " ('COLLEGE_ENROLLMENT', 'BIGINT', 8),\n",
       " ('General Services Route ', 'BIGINT', 8),\n",
       " ('Freshman on Track Rate %', 'CLOB', 1048576),\n",
       " ('X_COORDINATE', 'DOUBLE', 8),\n",
       " ('Y_COORDINATE', 'DOUBLE', 8),\n",
       " ('Latitude', 'DOUBLE', 8),\n",
       " ('Longitude', 'DOUBLE', 8),\n",
       " ('COMMUNITY_AREA_NUMBER', 'BIGINT', 8),\n",
       " ('COMMUNITY_AREA_NAME', 'CLOB', 1048576),\n",
       " ('Ward', 'BIGINT', 8),\n",
       " ('Police District', 'BIGINT', 8),\n",
       " ('Location', 'CLOB', 1048576)]"
      ]
     },
     "execution_count": 53,
     "metadata": {},
     "output_type": "execute_result"
    }
   ],
   "source": [
    "# type in your query to retrieve all column names in the SCHOOLS table along with their datatypes and length\n",
    "%sql select COLNAME, TYPENAME, LENGTH from SYSCAT.COLUMNS where TABNAME = 'SCHOOLS'"
   ]
  },
  {
   "cell_type": "markdown",
   "metadata": {},
   "source": [
    "<details><summary>Click here for the solution</summary>\n",
    "\n",
    "```python\n",
    "%sql select COLNAME, TYPENAME, LENGTH from SYSCAT.COLUMNS where TABNAME = 'SCHOOLS'\n",
    "\n",
    "or\n",
    "\n",
    "%sql select distinct(NAME), COLTYPE, LENGTH from SYSIBM.SYSCOLUMNS where TBNAME = 'SCHOOLS'\n",
    "\n",
    "```\n",
    "\n",
    "</details>\n"
   ]
  },
  {
   "cell_type": "markdown",
   "metadata": {},
   "source": [
    "### Questions\n",
    "\n",
    "1.  Is the column name for the \"SCHOOL ID\" attribute in upper or mixed case?\n",
    "2.  What is the name of \"Community Area Name\" column in your table? Does it have spaces?\n",
    "3.  Are there any columns in whose names the spaces and paranthesis (round brackets) have been replaced by the underscore character \"_\"?\n"
   ]
  },
  {
   "cell_type": "markdown",
   "metadata": {},
   "source": [
    "## Problems\n",
    "\n",
    "### Problem 1\n",
    "\n",
    "##### How many Elementary Schools are in the dataset?\n"
   ]
  },
  {
   "cell_type": "code",
   "execution_count": 33,
   "metadata": {},
   "outputs": [
    {
     "name": "stdout",
     "output_type": "stream",
     "text": [
      " * ibm_db_sa://wll66257:***@dashdb-txn-sbox-yp-dal09-10.services.dal.bluemix.net:50000/BLUDB\n",
      "Done.\n"
     ]
    },
    {
     "data": {
      "text/html": [
       "<table>\n",
       "    <thead>\n",
       "        <tr>\n",
       "            <th>1</th>\n",
       "        </tr>\n",
       "    </thead>\n",
       "    <tbody>\n",
       "        <tr>\n",
       "            <td>462</td>\n",
       "        </tr>\n",
       "    </tbody>\n",
       "</table>"
      ],
      "text/plain": [
       "[(Decimal('462'),)]"
      ]
     },
     "execution_count": 33,
     "metadata": {},
     "output_type": "execute_result"
    }
   ],
   "source": [
    "%sql select count(*) from SCHOOLS where \"Elementary, Middle, or High School\" = 'ES'"
   ]
  },
  {
   "cell_type": "markdown",
   "metadata": {},
   "source": [
    "<details><summary>Click here for the hint</summary>\n",
    "\n",
    "```python\n",
    "Which column specifies the school type e.g. 'ES', 'MS', 'HS'?\n",
    "\n",
    "Does the column name have mixed case, spaces or other special characters?\n",
    "If so, ensure you use double quotes around the \"Name of the Column\"\n",
    "\n",
    "```\n",
    "\n",
    "</details>\n"
   ]
  },
  {
   "cell_type": "markdown",
   "metadata": {},
   "source": [
    "<details><summary>Click here for the solution</summary>\n",
    "\n",
    "```python\n",
    "%sql select count(*) from SCHOOLS where \"Elementary, Middle, or High School\" = 'ES'\n",
    "\n",
    "Correct answer: 462\n",
    "\n",
    "```\n",
    "\n",
    "</details>\n"
   ]
  },
  {
   "cell_type": "markdown",
   "metadata": {},
   "source": [
    "### Problem 2\n",
    "\n",
    "##### What is the highest Safety Score?\n"
   ]
  },
  {
   "cell_type": "code",
   "execution_count": 34,
   "metadata": {},
   "outputs": [
    {
     "name": "stdout",
     "output_type": "stream",
     "text": [
      " * ibm_db_sa://wll66257:***@dashdb-txn-sbox-yp-dal09-10.services.dal.bluemix.net:50000/BLUDB\n",
      "Done.\n"
     ]
    },
    {
     "data": {
      "text/html": [
       "<table>\n",
       "    <thead>\n",
       "        <tr>\n",
       "            <th>max_safety_score</th>\n",
       "        </tr>\n",
       "    </thead>\n",
       "    <tbody>\n",
       "        <tr>\n",
       "            <td>99.0</td>\n",
       "        </tr>\n",
       "    </tbody>\n",
       "</table>"
      ],
      "text/plain": [
       "[(99.0,)]"
      ]
     },
     "execution_count": 34,
     "metadata": {},
     "output_type": "execute_result"
    }
   ],
   "source": [
    "%sql select MAX(Safety_Score) AS MAX_SAFETY_SCORE from SCHOOLS"
   ]
  },
  {
   "cell_type": "markdown",
   "metadata": {},
   "source": [
    "<details><summary>Click here for the solution</summary>\n",
    "\n",
    "```python\n",
    "# Use the MAX() function\n",
    "\n",
    "%sql select MAX(Safety_Score) AS MAX_SAFETY_SCORE from SCHOOLS\n",
    "\n",
    "Correct answer: 99\n",
    "    \n",
    "```\n",
    "\n",
    "</details>\n"
   ]
  },
  {
   "cell_type": "markdown",
   "metadata": {},
   "source": [
    "### Problem 3\n",
    "\n",
    "##### Which schools have highest Safety Score?\n"
   ]
  },
  {
   "cell_type": "code",
   "execution_count": 35,
   "metadata": {},
   "outputs": [
    {
     "name": "stdout",
     "output_type": "stream",
     "text": [
      " * ibm_db_sa://wll66257:***@dashdb-txn-sbox-yp-dal09-10.services.dal.bluemix.net:50000/BLUDB\n",
      "Done.\n"
     ]
    },
    {
     "data": {
      "text/html": [
       "<table>\n",
       "    <thead>\n",
       "        <tr>\n",
       "            <th>name_of_school</th>\n",
       "            <th>safety_score</th>\n",
       "        </tr>\n",
       "    </thead>\n",
       "    <tbody>\n",
       "        <tr>\n",
       "            <td>Abraham Lincoln Elementary School</td>\n",
       "            <td>99.0</td>\n",
       "        </tr>\n",
       "        <tr>\n",
       "            <td>Alexander Graham Bell Elementary School</td>\n",
       "            <td>99.0</td>\n",
       "        </tr>\n",
       "        <tr>\n",
       "            <td>Annie Keller Elementary Gifted Magnet School</td>\n",
       "            <td>99.0</td>\n",
       "        </tr>\n",
       "        <tr>\n",
       "            <td>Augustus H Burley Elementary School</td>\n",
       "            <td>99.0</td>\n",
       "        </tr>\n",
       "        <tr>\n",
       "            <td>Edgar Allan Poe Elementary Classical School</td>\n",
       "            <td>99.0</td>\n",
       "        </tr>\n",
       "        <tr>\n",
       "            <td>Edgebrook Elementary School</td>\n",
       "            <td>99.0</td>\n",
       "        </tr>\n",
       "        <tr>\n",
       "            <td>Ellen Mitchell Elementary School</td>\n",
       "            <td>99.0</td>\n",
       "        </tr>\n",
       "        <tr>\n",
       "            <td>James E McDade Elementary Classical School</td>\n",
       "            <td>99.0</td>\n",
       "        </tr>\n",
       "        <tr>\n",
       "            <td>James G Blaine Elementary School</td>\n",
       "            <td>99.0</td>\n",
       "        </tr>\n",
       "        <tr>\n",
       "            <td>LaSalle Elementary Language Academy</td>\n",
       "            <td>99.0</td>\n",
       "        </tr>\n",
       "        <tr>\n",
       "            <td>Mary E Courtenay Elementary Language Arts Center</td>\n",
       "            <td>99.0</td>\n",
       "        </tr>\n",
       "        <tr>\n",
       "            <td>Northside College Preparatory High School</td>\n",
       "            <td>99.0</td>\n",
       "        </tr>\n",
       "        <tr>\n",
       "            <td>Northside Learning Center High School</td>\n",
       "            <td>99.0</td>\n",
       "        </tr>\n",
       "        <tr>\n",
       "            <td>Norwood Park Elementary School</td>\n",
       "            <td>99.0</td>\n",
       "        </tr>\n",
       "        <tr>\n",
       "            <td>Oriole Park Elementary School</td>\n",
       "            <td>99.0</td>\n",
       "        </tr>\n",
       "        <tr>\n",
       "            <td>Sauganash Elementary School</td>\n",
       "            <td>99.0</td>\n",
       "        </tr>\n",
       "        <tr>\n",
       "            <td>Stephen Decatur Classical Elementary School</td>\n",
       "            <td>99.0</td>\n",
       "        </tr>\n",
       "        <tr>\n",
       "            <td>Talman Elementary School</td>\n",
       "            <td>99.0</td>\n",
       "        </tr>\n",
       "        <tr>\n",
       "            <td>Wildwood Elementary School</td>\n",
       "            <td>99.0</td>\n",
       "        </tr>\n",
       "    </tbody>\n",
       "</table>"
      ],
      "text/plain": [
       "[('Abraham Lincoln Elementary School', 99.0),\n",
       " ('Alexander Graham Bell Elementary School', 99.0),\n",
       " ('Annie Keller Elementary Gifted Magnet School', 99.0),\n",
       " ('Augustus H Burley Elementary School', 99.0),\n",
       " ('Edgar Allan Poe Elementary Classical School', 99.0),\n",
       " ('Edgebrook Elementary School', 99.0),\n",
       " ('Ellen Mitchell Elementary School', 99.0),\n",
       " ('James E McDade Elementary Classical School', 99.0),\n",
       " ('James G Blaine Elementary School', 99.0),\n",
       " ('LaSalle Elementary Language Academy', 99.0),\n",
       " ('Mary E Courtenay Elementary Language Arts Center', 99.0),\n",
       " ('Northside College Preparatory High School', 99.0),\n",
       " ('Northside Learning Center High School', 99.0),\n",
       " ('Norwood Park Elementary School', 99.0),\n",
       " ('Oriole Park Elementary School', 99.0),\n",
       " ('Sauganash Elementary School', 99.0),\n",
       " ('Stephen Decatur Classical Elementary School', 99.0),\n",
       " ('Talman Elementary School', 99.0),\n",
       " ('Wildwood Elementary School', 99.0)]"
      ]
     },
     "execution_count": 35,
     "metadata": {},
     "output_type": "execute_result"
    }
   ],
   "source": [
    "%sql select Name_of_School, Safety_Score from SCHOOLS where \\\n",
    "  Safety_Score= (select MAX(Safety_Score) from SCHOOLS)"
   ]
  },
  {
   "cell_type": "markdown",
   "metadata": {},
   "source": [
    "<details><summary>Click here for the solution</summary>\n",
    "\n",
    "```python\n",
    "# In the previous problem we found out that the highest Safety Score is 99, so we can use that as an input in the where clause:\n",
    "\n",
    "%sql select Name_of_School, Safety_Score from SCHOOLS where Safety_Score = 99\n",
    "\n",
    "or, a better way:\n",
    "\n",
    "%sql select Name_of_School, Safety_Score from SCHOOLS where \\\n",
    "  Safety_Score= (select MAX(Safety_Score) from SCHOOLS)\n",
    "\n",
    "\n",
    "Correct answer: several schools with with Safety Score of 99.\n",
    "    \n",
    "```\n",
    "\n",
    "</details>\n"
   ]
  },
  {
   "cell_type": "markdown",
   "metadata": {},
   "source": [
    "### Problem 4\n",
    "\n",
    "##### What are the top 10 schools with the highest \"Average Student Attendance\"?\n"
   ]
  },
  {
   "cell_type": "code",
   "execution_count": 65,
   "metadata": {},
   "outputs": [
    {
     "name": "stdout",
     "output_type": "stream",
     "text": [
      " * ibm_db_sa://wll66257:***@dashdb-txn-sbox-yp-dal09-10.services.dal.bluemix.net:50000/BLUDB\n",
      "Done.\n"
     ]
    },
    {
     "data": {
      "text/html": [
       "<table>\n",
       "    <thead>\n",
       "        <tr>\n",
       "            <th>name_of_school</th>\n",
       "            <th>average_student_attendance</th>\n",
       "        </tr>\n",
       "    </thead>\n",
       "    <tbody>\n",
       "        <tr>\n",
       "            <td>Annie Keller Elementary Gifted Magnet School</td>\n",
       "            <td>0.98</td>\n",
       "        </tr>\n",
       "        <tr>\n",
       "            <td>Edgar Allan Poe Elementary Classical School</td>\n",
       "            <td>0.98</td>\n",
       "        </tr>\n",
       "        <tr>\n",
       "            <td>James Ward Elementary School</td>\n",
       "            <td>0.98</td>\n",
       "        </tr>\n",
       "        <tr>\n",
       "            <td>John Charles Haines Elementary School</td>\n",
       "            <td>0.98</td>\n",
       "        </tr>\n",
       "        <tr>\n",
       "            <td>Orozco Fine Arts &amp; Sciences Elementary School</td>\n",
       "            <td>0.98</td>\n",
       "        </tr>\n",
       "        <tr>\n",
       "            <td>Rachel Carson Elementary School</td>\n",
       "            <td>0.98</td>\n",
       "        </tr>\n",
       "        <tr>\n",
       "            <td>Albany Park Multicultural Academy</td>\n",
       "            <td>0.97</td>\n",
       "        </tr>\n",
       "        <tr>\n",
       "            <td>Ambrose Plamondon Elementary School</td>\n",
       "            <td>0.97</td>\n",
       "        </tr>\n",
       "        <tr>\n",
       "            <td>Andrew Jackson Elementary Language Academy</td>\n",
       "            <td>0.97</td>\n",
       "        </tr>\n",
       "        <tr>\n",
       "            <td>DeVry University Advantage Academy High School</td>\n",
       "            <td>0.97</td>\n",
       "        </tr>\n",
       "    </tbody>\n",
       "</table>"
      ],
      "text/plain": [
       "[('Annie Keller Elementary Gifted Magnet School', 0.98),\n",
       " ('Edgar Allan Poe Elementary Classical School', 0.98),\n",
       " ('James Ward Elementary School', 0.98),\n",
       " ('John Charles Haines Elementary School', 0.98),\n",
       " ('Orozco Fine Arts & Sciences Elementary School', 0.98),\n",
       " ('Rachel Carson Elementary School', 0.98),\n",
       " ('Albany Park Multicultural Academy', 0.97),\n",
       " ('Ambrose Plamondon Elementary School', 0.97),\n",
       " ('Andrew Jackson Elementary Language Academy', 0.97),\n",
       " ('DeVry University Advantage Academy High School', 0.97)]"
      ]
     },
     "execution_count": 65,
     "metadata": {},
     "output_type": "execute_result"
    }
   ],
   "source": [
    "%sql select Name_of_School, AVERAGE_STUDENT_ATTENDANCE from SCHOOLS \\\n",
    "    order by AVERAGE_STUDENT_ATTENDANCE desc nulls last limit 10 "
   ]
  },
  {
   "cell_type": "markdown",
   "metadata": {},
   "source": [
    "<details><summary>Click here for the solution</summary>\n",
    "\n",
    "```python\n",
    "%sql select Name_of_School, Average_Student_Attendance from SCHOOLS \\\n",
    "    order by Average_Student_Attendance desc nulls last limit 10 \n",
    "    \n",
    "```\n",
    "\n",
    "</details>\n"
   ]
  },
  {
   "cell_type": "markdown",
   "metadata": {},
   "source": [
    "### Problem 5\n",
    "\n",
    "##### Retrieve the list of 5 Schools with the lowest Average Student Attendance sorted in ascending order based on attendance\n"
   ]
  },
  {
   "cell_type": "code",
   "execution_count": 66,
   "metadata": {},
   "outputs": [
    {
     "name": "stdout",
     "output_type": "stream",
     "text": [
      " * ibm_db_sa://wll66257:***@dashdb-txn-sbox-yp-dal09-10.services.dal.bluemix.net:50000/BLUDB\n",
      "Done.\n"
     ]
    },
    {
     "data": {
      "text/html": [
       "<table>\n",
       "    <thead>\n",
       "        <tr>\n",
       "            <th>name_of_school</th>\n",
       "            <th>average_student_attendance</th>\n",
       "        </tr>\n",
       "    </thead>\n",
       "    <tbody>\n",
       "        <tr>\n",
       "            <td>Richard T Crane Technical Preparatory High School</td>\n",
       "            <td>0.58</td>\n",
       "        </tr>\n",
       "        <tr>\n",
       "            <td>Barbara Vick Early Childhood &amp; Family Center</td>\n",
       "            <td>0.61</td>\n",
       "        </tr>\n",
       "        <tr>\n",
       "            <td>Dyett High School</td>\n",
       "            <td>0.62</td>\n",
       "        </tr>\n",
       "        <tr>\n",
       "            <td>Wendell Phillips Academy High School</td>\n",
       "            <td>0.63</td>\n",
       "        </tr>\n",
       "        <tr>\n",
       "            <td>Orr Academy High School</td>\n",
       "            <td>0.66</td>\n",
       "        </tr>\n",
       "    </tbody>\n",
       "</table>"
      ],
      "text/plain": [
       "[('Richard T Crane Technical Preparatory High School', 0.58),\n",
       " ('Barbara Vick Early Childhood & Family Center', 0.61),\n",
       " ('Dyett High School', 0.62),\n",
       " ('Wendell Phillips Academy High School', 0.63),\n",
       " ('Orr Academy High School', 0.66)]"
      ]
     },
     "execution_count": 66,
     "metadata": {},
     "output_type": "execute_result"
    }
   ],
   "source": [
    "%sql SELECT NAME_OF_SCHOOL, Average_Student_Attendance  \\\n",
    "     from SCHOOLS \\\n",
    "     order by Average_Student_Attendance \\\n",
    "     fetch first 5 rows only"
   ]
  },
  {
   "cell_type": "markdown",
   "metadata": {},
   "source": [
    "<details><summary>Click here for the solution</summary>\n",
    "\n",
    "```python\n",
    "%sql SELECT Name_of_School, Average_Student_Attendance  \\\n",
    "     from SCHOOLS \\\n",
    "     order by Average_Student_Attendance \\\n",
    "     fetch first 5 rows only\n",
    "\n",
    "```\n",
    "\n",
    "</details>\n"
   ]
  },
  {
   "cell_type": "markdown",
   "metadata": {},
   "source": [
    "### Problem 6\n",
    "\n",
    "##### Now remove the '%' sign from the above result set for Average Student Attendance column\n"
   ]
  },
  {
   "cell_type": "code",
   "execution_count": 67,
   "metadata": {},
   "outputs": [
    {
     "name": "stdout",
     "output_type": "stream",
     "text": [
      " * ibm_db_sa://wll66257:***@dashdb-txn-sbox-yp-dal09-10.services.dal.bluemix.net:50000/BLUDB\n",
      "Done.\n"
     ]
    },
    {
     "data": {
      "text/html": [
       "<table>\n",
       "    <thead>\n",
       "        <tr>\n",
       "            <th>name_of_school</th>\n",
       "            <th>2</th>\n",
       "        </tr>\n",
       "    </thead>\n",
       "    <tbody>\n",
       "        <tr>\n",
       "            <td>Richard T Crane Technical Preparatory High School</td>\n",
       "            <td>5.8E-1</td>\n",
       "        </tr>\n",
       "        <tr>\n",
       "            <td>Barbara Vick Early Childhood &amp; Family Center</td>\n",
       "            <td>6.1E-1</td>\n",
       "        </tr>\n",
       "        <tr>\n",
       "            <td>Dyett High School</td>\n",
       "            <td>6.2E-1</td>\n",
       "        </tr>\n",
       "        <tr>\n",
       "            <td>Wendell Phillips Academy High School</td>\n",
       "            <td>6.3E-1</td>\n",
       "        </tr>\n",
       "        <tr>\n",
       "            <td>Orr Academy High School</td>\n",
       "            <td>6.6E-1</td>\n",
       "        </tr>\n",
       "    </tbody>\n",
       "</table>"
      ],
      "text/plain": [
       "[('Richard T Crane Technical Preparatory High School', '5.8E-1'),\n",
       " ('Barbara Vick Early Childhood & Family Center', '6.1E-1'),\n",
       " ('Dyett High School', '6.2E-1'),\n",
       " ('Wendell Phillips Academy High School', '6.3E-1'),\n",
       " ('Orr Academy High School', '6.6E-1')]"
      ]
     },
     "execution_count": 67,
     "metadata": {},
     "output_type": "execute_result"
    }
   ],
   "source": [
    "%sql SELECT Name_of_School, REPLACE(Average_Student_Attendance, '%', '') \\\n",
    "     from SCHOOLS \\\n",
    "     order by Average_Student_Attendance \\\n",
    "     fetch first 5 rows only"
   ]
  },
  {
   "cell_type": "markdown",
   "metadata": {},
   "source": [
    "<details><summary>Click here for the solution</summary>\n",
    "\n",
    "```python\n",
    "#Use the REPLACE() function to replace '%' with ''\n",
    "#See documentation for this function at: \n",
    "https://www.ibm.com/support/knowledgecenter/en/SSEPGG_10.5.0/com.ibm.db2.luw.sql.ref.doc/doc/r0000843.html\n",
    "\n",
    "%sql SELECT Name_of_School, REPLACE(Average_Student_Attendance, '%', '') \\\n",
    "     from SCHOOLS \\\n",
    "     order by Average_Student_Attendance \\\n",
    "     fetch first 5 rows only\n",
    "\n",
    "```\n",
    "\n",
    "</details>\n"
   ]
  },
  {
   "cell_type": "markdown",
   "metadata": {},
   "source": [
    "### Problem 7\n",
    "\n",
    "##### Which Schools have Average Student Attendance lower than 70%?\n"
   ]
  },
  {
   "cell_type": "code",
   "execution_count": 73,
   "metadata": {},
   "outputs": [
    {
     "name": "stdout",
     "output_type": "stream",
     "text": [
      " * ibm_db_sa://wll66257:***@dashdb-txn-sbox-yp-dal09-10.services.dal.bluemix.net:50000/BLUDB\n",
      "(ibm_db_dbi.ProgrammingError) ibm_db_dbi::ProgrammingError: SQLNumResultCols failed: [IBM][CLI Driver][DB2/LINUXX8664] SQL0104N  An unexpected token \"Average_Student_Attendance\" was found following \"where DECIMAL\".  Expected tokens may include:  \"<space>\".  SQLSTATE=42601 SQLCODE=-104\n",
      "[SQL: SELECT Name_of_School, Average_Student_Attendance        from SCHOOLS       where DECIMAL Average_Student_Attendance < 0.7       order by Average_Student_Attendance]\n",
      "(Background on this error at: http://sqlalche.me/e/13/f405)\n"
     ]
    }
   ],
   "source": [
    "%sql SELECT Name_of_School, Average_Student_Attendance  \\\n",
    "     from SCHOOLS \\\n",
    "     where DECIMAL Average_Student_Attendance < 0.7 \\\n",
    "     order by Average_Student_Attendance"
   ]
  },
  {
   "cell_type": "markdown",
   "metadata": {},
   "source": [
    "<details><summary>Click here for the hint</summary>\n",
    "\n",
    "```python\n",
    "The datatype of the \"Average_Student_Attendance\" column is varchar.\n",
    "So you cannot use it as is in the where clause for a numeric comparison.\n",
    "First use the CAST() function to cast it as a DECIMAL or DOUBLE\n",
    "e.g. CAST(\"Column_Name\" as DOUBLE)\n",
    "or simply: DECIMAL(\"Column_Name\")\n",
    "\n",
    "Don't forget the '%' age sign needs to be removed before casting\n",
    "\n",
    "```\n",
    "\n",
    "</details>\n"
   ]
  },
  {
   "cell_type": "markdown",
   "metadata": {},
   "source": [
    "<details><summary>Click here for the solution</summary>\n",
    "\n",
    "```python\n",
    "%sql SELECT Name_of_School, Average_Student_Attendance  \\\n",
    "     from SCHOOLS \\\n",
    "     where CAST ( REPLACE(Average_Student_Attendance, '%', '') AS DOUBLE ) < 70 \\\n",
    "     order by Average_Student_Attendance\n",
    "     \n",
    "or,\n",
    "\n",
    "%sql SELECT Name_of_School, Average_Student_Attendance  \\\n",
    "     from SCHOOLS \\\n",
    "     where DECIMAL ( REPLACE(Average_Student_Attendance, '%', '') ) < 70 \\\n",
    "     order by Average_Student_Attendance\n",
    "\n",
    "```\n",
    "\n",
    "</details>\n"
   ]
  },
  {
   "cell_type": "markdown",
   "metadata": {},
   "source": [
    "### Problem 8\n",
    "\n",
    "##### Get the total College Enrollment for each Community Area\n"
   ]
  },
  {
   "cell_type": "code",
   "execution_count": 74,
   "metadata": {},
   "outputs": [
    {
     "name": "stdout",
     "output_type": "stream",
     "text": [
      " * ibm_db_sa://wll66257:***@dashdb-txn-sbox-yp-dal09-10.services.dal.bluemix.net:50000/BLUDB\n",
      "(ibm_db_dbi.ProgrammingError) ibm_db_dbi::ProgrammingError: SQLNumResultCols failed: [IBM][CLI Driver][DB2/LINUXX8664] SQL0134N  Improper use of a string column, host variable, constant, or function \"COMMUNITY_AREA_NAME\".  SQLSTATE=42907 SQLCODE=-134\n",
      "[SQL: select Community_Area_Name, sum(College_Enrollment) AS TOTAL_ENROLLMENT     from SCHOOLS     group by Community_Area_Name]\n",
      "(Background on this error at: http://sqlalche.me/e/13/f405)\n"
     ]
    }
   ],
   "source": [
    "%sql select Community_Area_Name, sum(College_Enrollment) AS TOTAL_ENROLLMENT \\\n",
    "   from SCHOOLS \\\n",
    "   group by Community_Area_Name "
   ]
  },
  {
   "cell_type": "markdown",
   "metadata": {},
   "source": [
    "<details><summary>Click here for the hint</summary>\n",
    "\n",
    "```python\n",
    "Verify the exact name of the Enrollment column in the database\n",
    "Use the SUM() function to add up the Enrollments for each Community Area\n",
    "\n",
    "Don't forget to group by the Community Area\n",
    "\n",
    "```\n",
    "\n",
    "</details>\n"
   ]
  },
  {
   "cell_type": "markdown",
   "metadata": {},
   "source": [
    "<details><summary>Click here for the solution</summary>\n",
    "\n",
    "```python\n",
    "%sql select Community_Area_Name, sum(College_Enrollment) AS TOTAL_ENROLLMENT \\\n",
    "   from SCHOOLS \\\n",
    "   group by Community_Area_Name \n",
    "\n",
    "```\n",
    "\n",
    "</details>\n"
   ]
  },
  {
   "cell_type": "markdown",
   "metadata": {},
   "source": [
    "### Problem 9\n",
    "\n",
    "##### Get the 5 Community Areas with the least total College Enrollment  sorted in ascending order\n"
   ]
  },
  {
   "cell_type": "code",
   "execution_count": null,
   "metadata": {
    "collapsed": true,
    "jupyter": {
     "outputs_hidden": true
    }
   },
   "outputs": [],
   "source": [
    "%sql select Community_Area_Name, sum(College_Enrollment) AS TOTAL_ENROLLMENT \\\n",
    "   from SCHOOLS \\\n",
    "   group by Community_Area_Name \\\n",
    "   order by TOTAL_ENROLLMENT asc \\\n",
    "   fetch first 5 rows only\n"
   ]
  },
  {
   "cell_type": "markdown",
   "metadata": {},
   "source": [
    "<details><summary>Click here for the solution</summary>\n",
    "\n",
    "```python\n",
    "# Order the previous query and limit the number of rows you fetch\n",
    "\n",
    "%sql select Community_Area_Name, sum(College_Enrollment) AS TOTAL_ENROLLMENT \\\n",
    "   from SCHOOLS \\\n",
    "   group by Community_Area_Name \\\n",
    "   order by TOTAL_ENROLLMENT asc \\\n",
    "   fetch first 5 rows only\n",
    "\n",
    "```\n",
    "\n",
    "</details>\n"
   ]
  },
  {
   "cell_type": "markdown",
   "metadata": {},
   "source": [
    "### Problem 10\n",
    "\n",
    "##### Get the hardship index for the community area which has College Enrollment of 4368\n"
   ]
  },
  {
   "cell_type": "code",
   "execution_count": null,
   "metadata": {},
   "outputs": [],
   "source": []
  },
  {
   "cell_type": "markdown",
   "metadata": {},
   "source": [
    "<details><summary>Click here for the solution</summary>\n",
    "\n",
    "```python\n",
    "# For this solution to work the CHICAGO_SOCIOECONOMIC_DATA table as created in the last lab of Week 3 should already exist\n",
    "\n",
    "%%sql \n",
    "select hardship_index \n",
    "   from chicago_socioeconomic_data CD, schools CPS \n",
    "   where CD.ca = CPS.community_area_number \n",
    "      and college_enrollment = 4368\n",
    "\n",
    "```\n",
    "\n",
    "</details>\n"
   ]
  },
  {
   "cell_type": "markdown",
   "metadata": {},
   "source": [
    "### Problem 11\n",
    "\n",
    "##### Get the hardship index for the community area which has the highest value for College Enrollment\n"
   ]
  },
  {
   "cell_type": "code",
   "execution_count": null,
   "metadata": {},
   "outputs": [],
   "source": []
  },
  {
   "cell_type": "markdown",
   "metadata": {},
   "source": [
    "<details><summary>Click here for the solution</summary>\n",
    "\n",
    "```python\n",
    "# For this solution to work the CHICAGO_SOCIOECONOMIC_DATA table as created in the last lab of Week 3 should already exist\n",
    "\n",
    "%sql select ca, community_area_name, hardship_index from chicago_socioeconomic_data \\\n",
    "   where ca in \\\n",
    "   ( select community_area_number from schools order by college_enrollment desc limit 1 )\n",
    "\n",
    "\n",
    "```\n",
    "\n",
    "</details>\n"
   ]
  },
  {
   "cell_type": "code",
   "execution_count": 60,
   "metadata": {},
   "outputs": [
    {
     "name": "stdout",
     "output_type": "stream",
     "text": [
      " * ibm_db_sa://wll66257:***@dashdb-txn-sbox-yp-dal09-10.services.dal.bluemix.net:50000/BLUDB\n"
     ]
    },
    {
     "data": {
      "text/plain": [
       "'Connected: wll66257@BLUDB'"
      ]
     },
     "execution_count": 60,
     "metadata": {},
     "output_type": "execute_result"
    }
   ],
   "source": [
    "%sql"
   ]
  },
  {
   "cell_type": "markdown",
   "metadata": {},
   "source": [
    "## Summary\n",
    "\n",
    "##### In this lab you learned how to work with a real word dataset using SQL and Python. You learned how to query columns with spaces or special characters in their names and with mixed case names. You also used built in database functions and practiced how to sort, limit, and order result sets, as well as used sub-queries and worked with multiple tables.\n"
   ]
  },
  {
   "cell_type": "markdown",
   "metadata": {},
   "source": [
    "## Author\n",
    "\n",
    "<a href=\"https://www.linkedin.com/in/ravahuja/\" target=\"_blank\">Rav Ahuja</a>\n",
    "\n",
    "## Change Log\n",
    "\n",
    "| Date (YYYY-MM-DD) | Version | Changed By | Change Description                 |\n",
    "| ----------------- | ------- | ---------- | ---------------------------------- |\n",
    "| 2020-08-28        | 2.0     | Lavanya    | Moved lab to course repo in GitLab |\n",
    "\n",
    "<hr>\n",
    "\n",
    "## <h3 align=\"center\"> © IBM Corporation 2020. All rights reserved. <h3/>\n"
   ]
  }
 ],
 "metadata": {
  "kernelspec": {
   "display_name": "Python",
   "language": "python",
   "name": "conda-env-python-py"
  },
  "language_info": {
   "codemirror_mode": {
    "name": "ipython",
    "version": 3
   },
   "file_extension": ".py",
   "mimetype": "text/x-python",
   "name": "python",
   "nbconvert_exporter": "python",
   "pygments_lexer": "ipython3",
   "version": "3.6.12"
  },
  "widgets": {
   "state": {},
   "version": "1.1.2"
  }
 },
 "nbformat": 4,
 "nbformat_minor": 4
}
